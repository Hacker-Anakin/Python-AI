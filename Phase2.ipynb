{
 "cells": [
  {
   "cell_type": "markdown",
   "metadata": {},
   "source": [
    "# Matplotlib"
   ]
  },
  {
   "cell_type": "code",
   "execution_count": 1,
   "metadata": {},
   "outputs": [],
   "source": [
    "import matplotlib.pyplot as plt"
   ]
  },
  {
   "cell_type": "markdown",
   "metadata": {},
   "source": [
    "## Basics"
   ]
  },
  {
   "cell_type": "code",
   "execution_count": null,
   "metadata": {},
   "outputs": [],
   "source": [
    "x = [0, 6]\n",
    "y = [0, 36]\n",
    "\n",
    "plt.plot(x, y)  # elements of x as x axis and y as y axis\n",
    "\n",
    "plt.title(\"Sports Watch Data\")\n",
    "plt.xlabel(\"Average Pulse\")\n",
    "plt.ylabel(\"Calorie Burnage\")\n",
    "plt.legend([\"Pulse Rate\"])\n",
    "plt.grid()\n",
    "\n",
    "plt.show()"
   ]
  },
  {
   "cell_type": "code",
   "execution_count": null,
   "metadata": {},
   "outputs": [],
   "source": [
    "# Plot multiple points\n",
    "xpoints = [1, 2, 6, 8]\n",
    "ypoints = [1, 8, 1, 10]\n",
    "\n",
    "plt.plot(xpoints, ypoints, marker=\"o\", linestyle=\"dashed\", color=\"r\")\n",
    "\n",
    "# add the co-ordinates\n",
    "for x, y in zip(xpoints, ypoints):\n",
    "    plt.text(x, y, f\"({x},{y})\", fontsize=9, ha=\"right\", color=\"blue\")\n",
    "\n",
    "plt.show()"
   ]
  },
  {
   "cell_type": "markdown",
   "metadata": {},
   "source": [
    "## Multiple Graphs"
   ]
  },
  {
   "cell_type": "code",
   "execution_count": null,
   "metadata": {},
   "outputs": [],
   "source": [
    "# subplot - plots more than 1 graph in a big graph\n",
    "# plot 1:\n",
    "x = [0, 1, 2, 3]\n",
    "y = [3, 8, 1, 10]\n",
    "\n",
    "plt.subplot(1, 2, 1)\n",
    "plt.plot(x, y)\n",
    "plt.title(\"SALES\")\n",
    "\n",
    "# plot 2:\n",
    "x = [0, 1, 2, 3]\n",
    "y = [1, 2, 3, 4]\n",
    "\n",
    "plt.subplot(1, 2, 2)\n",
    "plt.plot(x, y)\n",
    "plt.title(\"INCOME\")\n",
    "\n",
    "plt.suptitle(\"MY SHOP\")\n",
    "plt.show()"
   ]
  },
  {
   "cell_type": "code",
   "execution_count": null,
   "metadata": {},
   "outputs": [],
   "source": [
    "# ploton the same graph\n",
    "# plot 1:\n",
    "x = [0, 1, 2, 3]\n",
    "y = [3, 8, 1, 10]\n",
    "plt.plot(x, y)\n",
    "\n",
    "# plot 2:\n",
    "x = [0, 1, 2, 3]\n",
    "y = [1, 2, 3, 4]\n",
    "plt.plot(x, y)\n",
    "\n",
    "plt.title(\"INCOME\")\n",
    "plt.legend([\"INCOME\", \"SALES\"])\n",
    "\n",
    "plt.show()"
   ]
  },
  {
   "cell_type": "markdown",
   "metadata": {},
   "source": [
    "## Graphs"
   ]
  },
  {
   "cell_type": "markdown",
   "metadata": {},
   "source": [
    "### Scatter graph"
   ]
  },
  {
   "cell_type": "code",
   "execution_count": null,
   "metadata": {},
   "outputs": [],
   "source": [
    "x = [5, 7, 8, 7, 2, 17, 2, 9, 4, 11, 12, 9, 6]\n",
    "y = [99, 86, 87, 88, 111, 86, 103, 87, 94, 78, 77, 85, 86]\n",
    "plt.scatter(x, y)\n",
    "\n",
    "x = [2, 2, 8, 1, 15, 8, 12, 9, 7, 3, 11, 4, 7, 14, 12]\n",
    "y = [100, 105, 84, 105, 90, 99, 90, 95, 94, 100, 79, 112, 91, 80, 85]\n",
    "plt.scatter(x, y, color=\"#88c999\")\n",
    "\n",
    "plt.show()"
   ]
  },
  {
   "cell_type": "code",
   "execution_count": null,
   "metadata": {},
   "outputs": [],
   "source": [
    "x = [5, 7, 8, 7, 2, 17, 2, 9, 4, 11, 12, 9, 6]\n",
    "y = [99, 86, 87, 88, 111, 86, 103, 87, 94, 78, 77, 85, 86]\n",
    "\n",
    "# adding a color bar\n",
    "colors = [0, 10, 20, 30, 40, 45, 50, 55, 60, 70, 80, 90, 100]\n",
    "\n",
    "plt.scatter(x, y, c=colors, cmap=\"viridis\") # adding color scheme\n",
    "\n",
    "plt.colorbar()\n",
    "plt.show()"
   ]
  },
  {
   "cell_type": "markdown",
   "metadata": {},
   "source": [
    "### Bar graph"
   ]
  },
  {
   "cell_type": "code",
   "execution_count": null,
   "metadata": {},
   "outputs": [],
   "source": [
    "x = [\"A\", \"B\", \"C\", \"D\"]\n",
    "y = [3, 8, 1, 10]\n",
    "\n",
    "plt.bar(x, y)\n",
    "plt.show()"
   ]
  },
  {
   "cell_type": "code",
   "execution_count": null,
   "metadata": {},
   "outputs": [],
   "source": [
    "x = [\"A\", \"B\", \"C\", \"D\"]\n",
    "y1 = [10, 20, 10, 30]\n",
    "y2 = [20, 25, 15, 25]\n",
    "y3 = [12, 15, 19, 6]\n",
    "y4 = [10, 29, 13, 19]\n",
    "\n",
    "# Calculate cumulative bottoms for each bar\n",
    "bottom_y2 = [y1[i] for i in range(len(y1))]\n",
    "bottom_y3 = [y1[i] + y2[i] for i in range(len(y1))]\n",
    "bottom_y4 = [y1[i] + y2[i] + y3[i] for i in range(len(y1))]\n",
    "\n",
    "# Plot bars in stack manner\n",
    "plt.bar(x, y1, color=\"r\")\n",
    "plt.bar(x, y2, bottom=bottom_y2, color=\"b\")\n",
    "plt.bar(x, y3, bottom=bottom_y3, color=\"y\")\n",
    "plt.bar(x, y4, bottom=bottom_y4, color=\"g\")\n",
    "\n",
    "plt.xlabel(\"Teams\")\n",
    "plt.ylabel(\"Score\")\n",
    "plt.legend([\"Round 1\", \"Round 2\", \"Round 3\", \"Round 4\"])\n",
    "plt.title(\"Scores by Teams in 4 Rounds\")\n",
    "plt.show()\n"
   ]
  },
  {
   "cell_type": "code",
   "execution_count": null,
   "metadata": {},
   "outputs": [],
   "source": [
    "# set width of bar\n",
    "barWidth = 0.25\n",
    "\n",
    "# data for the bars\n",
    "IT = [12, 30, 1, 8, 22]\n",
    "ECE = [28, 6, 16, 5, 10]\n",
    "CSE = [29, 3, 24, 25, 17]\n",
    "\n",
    "# Set position of bar on X axis\n",
    "br1 = list(range(len(IT)))\n",
    "br2 = [x + barWidth for x in br1]\n",
    "br3 = [x + barWidth for x in br2]\n",
    "\n",
    "# Make the plot\n",
    "plt.bar(br1, IT, color=\"r\", width=barWidth, edgecolor=\"grey\", label=\"IT\")\n",
    "plt.bar(br2, ECE, color=\"g\", width=barWidth, edgecolor=\"grey\", label=\"ECE\")\n",
    "plt.bar(br3, CSE, color=\"b\", width=barWidth, edgecolor=\"grey\", label=\"CSE\")\n",
    "\n",
    "# Adding Xticks\n",
    "plt.xlabel(\"Branch\", fontweight=\"bold\", fontsize=15)\n",
    "plt.ylabel(\"Students passed\", fontweight=\"bold\", fontsize=15)\n",
    "plt.xticks(\n",
    "    [r + barWidth for r in range(len(IT))], [\"2015\", \"2016\", \"2017\", \"2018\", \"2019\"]\n",
    ")\n",
    "\n",
    "plt.legend()\n",
    "plt.show()"
   ]
  },
  {
   "cell_type": "markdown",
   "metadata": {},
   "source": [
    "### Stack graph"
   ]
  },
  {
   "cell_type": "code",
   "execution_count": null,
   "metadata": {},
   "outputs": [],
   "source": [
    "# Set position of bar on X axis\n",
    "studying = [7, 8, 6, 11, 7]\n",
    "playing = [8, 5, 7, 8, 13]\n",
    "\n",
    "# Set position of bar on y axis\n",
    "days = [1, 2, 3, 4, 5]\n",
    "\n",
    "plt.stackplot(days, studying, playing)\n",
    "\n",
    "plt.xlabel(\"Days\")\n",
    "plt.ylabel(\"No of Hours\")\n",
    "plt.title(\"Hours spended on Studying and Playing\")\n",
    "plt.legend([\"Studying\", \"Playing\"])\n",
    "\n",
    "plt.show()"
   ]
  },
  {
   "cell_type": "markdown",
   "metadata": {},
   "source": [
    "### Pie graph"
   ]
  },
  {
   "cell_type": "code",
   "execution_count": null,
   "metadata": {},
   "outputs": [],
   "source": [
    "y = [35, 25, 25, 15]\n",
    "mylabels = [\"Apples\", \"Bananas\", \"Cherries\", \"Dates\"]\n",
    "\n",
    "plt.pie(y, labels=mylabels)\n",
    "plt.legend()\n",
    "plt.show()"
   ]
  },
  {
   "cell_type": "markdown",
   "metadata": {},
   "source": [
    "### 3-D graph"
   ]
  },
  {
   "cell_type": "code",
   "execution_count": null,
   "metadata": {},
   "outputs": [],
   "source": [
    "x = [1, 2, 3, 4, 5]\n",
    "y = [1, 4, 9, 16, 25]\n",
    "z = [1, 8, 27, 64, 125]\n",
    "\n",
    "ax = plt.axes(projection=\"3d\")\n",
    "ax.plot3D(z, y, x)\n",
    "plt.show()"
   ]
  },
  {
   "cell_type": "markdown",
   "metadata": {},
   "source": [
    "## Using numpy"
   ]
  },
  {
   "cell_type": "code",
   "execution_count": 14,
   "metadata": {},
   "outputs": [],
   "source": [
    "import numpy as np"
   ]
  },
  {
   "cell_type": "code",
   "execution_count": null,
   "metadata": {},
   "outputs": [],
   "source": [
    "ypoints = np.array([3, 8, 1, 10, 5, 7]) # you can also just provide y, x will be i, where i+=1\n",
    "\n",
    "plt.plot(ypoints)\n",
    "plt.show()"
   ]
  },
  {
   "cell_type": "markdown",
   "metadata": {},
   "source": [
    "## Using Pandas"
   ]
  },
  {
   "cell_type": "code",
   "execution_count": 16,
   "metadata": {},
   "outputs": [],
   "source": [
    "import pandas as pd"
   ]
  },
  {
   "cell_type": "code",
   "execution_count": null,
   "metadata": {},
   "outputs": [],
   "source": [
    "df = pd.DataFrame(\n",
    "    [\n",
    "        [\"A\", 10, 20, 10, 26],\n",
    "        [\"B\", 20, 25, 15, 21],\n",
    "        [\"C\", 12, 15, 19, 6],\n",
    "        [\"D\", 10, 18, 11, 19],\n",
    "    ],\n",
    "    columns=[\"Team\", \"Round 1\", \"Round 2\", \"Round 3\", \"Round 4\"],\n",
    ")\n",
    "\n",
    "print(df)\n",
    "\n",
    "df.plot(x=\"Team\", kind=\"bar\", stacked=True, title=\"Stacked Bar Graph by dataframe\")\n",
    "\n",
    "plt.show()"
   ]
  },
  {
   "cell_type": "code",
   "execution_count": null,
   "metadata": {},
   "outputs": [],
   "source": [
    "df = pd.DataFrame(\n",
    "    [\n",
    "        [\"Ram\", 10, 20, 10],\n",
    "        [\"Shyam\", 20, 25, 15],\n",
    "        [\"Sita\", 12, 15, 19],\n",
    "        [\"Gita\", 10, 18, 11],\n",
    "    ],\n",
    "    columns=[\"Name\", \"Studied\", \"Slept\", \"Played\"],\n",
    ")\n",
    "\n",
    "print(df)\n",
    "\n",
    "ax = df.plot(x=\"Name\", kind=\"barh\", stacked=True, mark_right=True)\n",
    "plt.title(\"Stacked Bar Graph\")\n",
    "\n",
    "df_total = df[\"Studied\"] + df[\"Slept\"] + df[\"Played\"]\n",
    "df_rel = df[df.columns[1:]].div(df_total, axis=0) * 100\n",
    "\n",
    "for n in df_rel.columns:\n",
    "    for i, (cs, ab, pc) in enumerate(\n",
    "        zip(df.iloc[:, 1:].cumsum(axis=1)[n], df[n], df_rel[n])\n",
    "    ):\n",
    "        plt.text(\n",
    "            cs - ab / 2,\n",
    "            i,\n",
    "            f\"{np.round(pc, 1)}%\",\n",
    "            va=\"center\",\n",
    "            ha=\"center\",\n",
    "            color=\"white\",\n",
    "        )\n",
    "\n",
    "for i, total in enumerate(df_total):\n",
    "    plt.text(\n",
    "        total, i, str(total), va=\"center\", ha=\"left\", color=\"black\", fontweight=\"bold\"\n",
    "    )\n",
    "\n",
    "plt.show()"
   ]
  },
  {
   "cell_type": "markdown",
   "metadata": {},
   "source": [
    "## Question & Answer"
   ]
  },
  {
   "cell_type": "markdown",
   "metadata": {},
   "source": [
    "Plot the effects of changing the range of 𝑥 on the period and shape of sine waves? from [0,2] to [0,7]"
   ]
  },
  {
   "cell_type": "code",
   "execution_count": null,
   "metadata": {},
   "outputs": [],
   "source": [
    "x1 = np.linspace(0, 2, 100)\n",
    "y1 = 1 + np.sin(2 * np.pi * x1)\n",
    "\n",
    "x2 = np.linspace(0, 3, 100)\n",
    "y2 = 1 + np.sin(2 * np.pi * x2)\n",
    "\n",
    "x3 = np.linspace(0, 4, 100)\n",
    "y3 = 1 + np.sin(2 * np.pi * x3)\n",
    "\n",
    "x4 = np.linspace(0, 5, 100)\n",
    "y4 = 1 + np.sin(2 * np.pi * x4)\n",
    "\n",
    "x5 = np.linspace(0, 6, 100)\n",
    "y5 = 1 + np.sin(2 * np.pi * x5)\n",
    "\n",
    "x6 = np.linspace(0, 7, 100)\n",
    "y6 = 1 + np.sin(2 * np.pi * x6)\n",
    "\n",
    "plt.figure(figsize=(10, 8))\n",
    "\n",
    "plt.subplot(3, 2, 1)\n",
    "plt.plot(x1, y1, color=\"orange\", label=\"Wave for x ∈ [0,2]\")\n",
    "\n",
    "plt.subplot(3, 2, 2)\n",
    "plt.plot(x2, y2, color=\"green\", label=\"Wave for x ∈ [0,3]\")\n",
    "\n",
    "plt.subplot(3, 2, 3)\n",
    "plt.plot(x3, y3, color=\"blue\", label=\"Wave for x ∈ [0,4]\")\n",
    "\n",
    "plt.subplot(3, 2, 4)\n",
    "plt.plot(x4, y4, color=\"magenta\", label=\"Wave for x ∈ [0,5]\")\n",
    "\n",
    "plt.subplot(3, 2, 5)\n",
    "plt.plot(x5, y5, color=\"black\", label=\"Wave for x ∈ [0,6]\")\n",
    "\n",
    "plt.subplot(3, 2, 6)\n",
    "plt.plot(x6, y6, color=\"red\", label=\"Wave for x ∈ [0,7]\")\n",
    "\n",
    "plt.suptitle(\"Sine Waves with Different Ranges\")\n",
    "plt.tight_layout(rect=[0, 0.03, 1, 0.93])\n",
    "\n",
    "handles = [\n",
    "    plt.Line2D([0], [0], color=\"orange\", label=\"Wave for x ∈ [0,2]\"),\n",
    "    plt.Line2D([0], [0], color=\"green\", label=\"Wave for x ∈ [0,3]\"),\n",
    "    plt.Line2D([0], [0], color=\"blue\", label=\"Wave for x ∈ [0,4]\"),\n",
    "    plt.Line2D([0], [0], color=\"magenta\", label=\"Wave for x ∈ [0,5]\"),\n",
    "    plt.Line2D([0], [0], color=\"black\", label=\"Wave for x ∈ [0,6]\"),\n",
    "    plt.Line2D([0], [0], color=\"red\", label=\"Wave for x ∈ [0,7]\"),\n",
    "]\n",
    "\n",
    "plt.figlegend(handles=handles, loc=\"upper right\", bbox_to_anchor=(1.15, 0.9))\n",
    "\n",
    "plt.show()"
   ]
  },
  {
   "cell_type": "markdown",
   "metadata": {},
   "source": [
    "Make a +ve and -ve bar graph for [3, 6, 9, 4, 2, 5]"
   ]
  },
  {
   "cell_type": "code",
   "execution_count": null,
   "metadata": {},
   "outputs": [],
   "source": [
    "A = np.array([3, 6, 9, 4, 2, 5])\n",
    "X = np.arange(6)\n",
    "\n",
    "# plot the bars\n",
    "plt.bar(X, A, color=\"r\")\n",
    "plt.bar(X, -A, color=\"b\")\n",
    "plt.title(\"+ve and -ve Bar Chart\")\n",
    "plt.show()"
   ]
  },
  {
   "cell_type": "markdown",
   "metadata": {},
   "source": [
    "Plot the Möbius strip surface on a 3-D graph"
   ]
  },
  {
   "cell_type": "code",
   "execution_count": null,
   "metadata": {},
   "outputs": [],
   "source": [
    "# Define the parameters of the Möbius strip\n",
    "R = 2\n",
    "\n",
    "# Define the Möbius strip surface\n",
    "u = np.linspace(0, 2 * np.pi, 100)\n",
    "v = np.linspace(-1, 1, 100)\n",
    "u, v = np.meshgrid(u, v)\n",
    "x = (R + v * np.cos(u / 2)) * np.cos(u)\n",
    "y = (R + v * np.cos(u / 2)) * np.sin(u)\n",
    "z = v * np.sin(u / 2)\n",
    "\n",
    "# Create the plot\n",
    "fig = plt.figure()\n",
    "ax = fig.add_subplot(111, projection=\"3d\")\n",
    "\n",
    "# Plot the Möbius strip surface\n",
    "ax.plot_surface(x, y, z, alpha=0.5)\n",
    "\n",
    "# Set plot properties\n",
    "ax.set_xlabel(\"X\")\n",
    "ax.set_ylabel(\"Y\")\n",
    "ax.set_zlabel(\"Z\")\n",
    "ax.set_title(\"Möbius Strip\")\n",
    "\n",
    "# Set the limits of the plot\n",
    "ax.set_xlim([-3, 3])\n",
    "ax.set_ylim([-3, 3])\n",
    "ax.set_zlim([-3, 3])\n",
    "\n",
    "# Show the plot\n",
    "plt.show()"
   ]
  },
  {
   "cell_type": "markdown",
   "metadata": {},
   "source": [
    "# SciPy"
   ]
  }
 ],
 "metadata": {
  "kernelspec": {
   "display_name": "Python 3",
   "language": "python",
   "name": "python3"
  },
  "language_info": {
   "codemirror_mode": {
    "name": "ipython",
    "version": 3
   },
   "file_extension": ".py",
   "mimetype": "text/x-python",
   "name": "python",
   "nbconvert_exporter": "python",
   "pygments_lexer": "ipython3",
   "version": "3.10.0"
  }
 },
 "nbformat": 4,
 "nbformat_minor": 2
}
